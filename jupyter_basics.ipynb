{
 "cells": [
  {
   "cell_type": "markdown",
   "metadata": {
    "collapsed": true
   },
   "source": [
    "Refer to the [notebook basics](http://nbviewer.jupyter.org/github/jupyter/notebook/blob/master/docs/source/examples/Notebook/Notebook%20Basics.ipynb) page from the official jupyter documentation for additional information."
   ]
  },
  {
   "cell_type": "markdown",
   "metadata": {},
   "source": [
    "# Code vs. Markdown Cells"
   ]
  },
  {
   "cell_type": "markdown",
   "metadata": {},
   "source": [
    "Individual elements or blocks within a jupyter notebook are called cells. There are only **two cell types: code cells containing executable code and markdown cells which display as text**"
   ]
  },
  {
   "cell_type": "markdown",
   "metadata": {},
   "source": [
    "This is a markdown i.e. text cell. **Double click on this text to enter the cell and edit the contents.** (You can insert your new witty text here!). **Now press `Ctrl+Enter` to \"execute\" this cell (which means render this cell into a pretty format).**"
   ]
  },
  {
   "cell_type": "code",
   "execution_count": 1,
   "metadata": {},
   "outputs": [
    {
     "data": {
      "text/plain": [
       "6"
      ]
     },
     "execution_count": 1,
     "metadata": {},
     "output_type": "execute_result"
    }
   ],
   "source": [
    "# This is a code cell.\n",
    "# Double click inside this cell to enter it and edit the contents - try changing the numbers below\n",
    "# Press Ctrl+Enter to execute this cell (which means run the code)\n",
    "# Any output of the code will automatically print below the cell\n",
    "2+4"
   ]
  },
  {
   "cell_type": "markdown",
   "metadata": {},
   "source": [
    "# Edit vs. Command Mode"
   ]
  },
  {
   "cell_type": "markdown",
   "metadata": {},
   "source": [
    "**When you have entered a cell it is called *Edit Mode* and the cell border will be green. You can instead single-click to the left of a cell to select but not edit it; this is called *command mode* and the cell border will be blue.**\n",
    "\n",
    "When you are in *edit mode* every keystroke will just be entered as text into the cell, with the exception of some standard text-editing keyboard shortcuts. However in *command mode* there is a set of simple keystrokes (keyboard shortcuts) that give us all the basic functionality of the notebook.\n",
    "\n",
    "For example, when a cell is selected in command mode you can toggle it's type to markdown by pressing `M` or to code by pressing `Y`. **Try switching cell types with the code cell below.**"
   ]
  },
  {
   "cell_type": "code",
   "execution_count": null,
   "metadata": {},
   "outputs": [],
   "source": [
    "# This is a code cell.\n",
    "# Single click to the left of this cell to select it in command mode\n",
    "# Press \"m\" to change it to markdown type - the hashtagged comments are now interpreted as markdown headings\n",
    "# Press \"y\" to change it back to code type.\n",
    "2+2"
   ]
  },
  {
   "cell_type": "markdown",
   "metadata": {},
   "source": [
    "In command mode you can press `s` to save changes to your notebook. At the very top of the page to the right of the notebook title you will see when the last save was. **Try it now.**"
   ]
  },
  {
   "cell_type": "markdown",
   "metadata": {},
   "source": [
    "Also, in command mode you can use the up and down arrows to navigate the selection through the cells of the notebook. **Try navigating up a few cells and then back down to this one.**"
   ]
  },
  {
   "cell_type": "markdown",
   "metadata": {},
   "source": [
    "In command mode you can insert a new code cell by pressing `b`. **Try inserting a new cell below this one, and then for bonus points try toggling it from the default code type to markdown type.**"
   ]
  },
  {
   "cell_type": "markdown",
   "metadata": {},
   "source": [
    "What _was_ I thinking."
   ]
  },
  {
   "cell_type": "markdown",
   "metadata": {},
   "source": [
    "Previously we double clicked a cell to enter edit mode and edit the contents of that cell, but we can alternatively do this with keystrokes. If you have a cell selected in command mode you can press `Enter` to switch to edit mode and edit that cell. Likewise if you are in edit mode you can press `Esc` to switch back to command mode. **Try switching back and forth between command and edit mode with this cell.**"
   ]
  },
  {
   "cell_type": "markdown",
   "metadata": {},
   "source": [
    "With a cell selected in command mode you can copy (cut) that cell with `c` (`x`). Then pressing `v` will paste that cell below whatever cell is currently selected. **Try copying this cell with `c`, navigating up to the top cell of the notebook with the up arrow, then pasting this cell with `v`.**"
   ]
  },
  {
   "cell_type": "markdown",
   "metadata": {},
   "source": [
    "In command mode you can delete your selected cell by pressing `d` twice rapidly. **Try deleting the cell you just copied to the top of the notebook.**"
   ]
  },
  {
   "cell_type": "markdown",
   "metadata": {},
   "source": [
    "If you want to execute/run a cell and automatically select the cell below rather than keeping the current cell selected you can do `Shift+Enter` instead of `Ctrl+Enter` (or if the cell is the last one in the notebook, `Shift+Enter` will create a new empty cell). `Shift+Enter` is often more useful than `Ctrl+Enter` in practice. **Try running this cell with `Shift+Enter` and notice that after running your selection drops down to the cell below it.**"
   ]
  },
  {
   "cell_type": "markdown",
   "metadata": {},
   "source": [
    "# Notebook Commands Cheat Sheet \n",
    "\n",
    "The most important commands are:\n",
    "- Navigate through cells in command mode: up arrow, down arrow\n",
    "- Toggle a cell between edit and command modes: `Enter`, `Esc`\n",
    "- Execute cells: `Ctrl+Enter`, `Shift+Enter`\n",
    "- Save the notebook: `s`\n",
    "- Toggle Cell types to code/markdown: `y`, `m`\n",
    "- Create a new cell: `b`\n",
    "- Cell cut/copy/paste: `x`, `c`, `v`\n",
    "- Cell delete: `d`\n",
    " \n",
    "To see the FULL set of commands available in command mode (as well as the text-editing keyboard shortcuts in edit mode) you can open the command cheatsheet by pressing `h` in command mode. There are commands for splitting and merging cells, selecting multiple cells etc. **Press `h` to take a look at the full set of commands now.**"
   ]
  },
  {
   "cell_type": "markdown",
   "metadata": {},
   "source": [
    "# Basic Markdown \n",
    "Markdown is a very simple text mark up language for basic text formatting. The most important feature for notebooks is creating headings: a line that starts with a `#` will be rendered as a top-level heading, `##` as a second level heading etc. **If you double-click into edit mode for this cell you will see the title line \"Basic Markdown\" is a top-level heading.** Markdown also supports formatting like italics, bolding, lists, blockquotes, etc.\n",
    "\n",
    "For more information on the available syntax in markdown, try [this intro to markdown](https://guides.github.com/features/mastering-markdown/)."
   ]
  },
  {
   "cell_type": "markdown",
   "metadata": {},
   "source": [
    "# Shell Commands (advanced)"
   ]
  },
  {
   "cell_type": "markdown",
   "metadata": {},
   "source": [
    "**You can pass shell commands to your underlying system shell by prefixing them with a `!`**. For instance, `!cd` will print your current working directory on windows. You can even capture the output of these commands, for example"
   ]
  },
  {
   "cell_type": "code",
   "execution_count": 2,
   "metadata": {},
   "outputs": [
    {
     "data": {
      "text/plain": [
       "['',\n",
       " 'Pinging www.google.com [142.250.190.36] with 32 bytes of data:',\n",
       " 'Reply from 142.250.190.36: bytes=32 time=29ms TTL=112',\n",
       " 'Reply from 142.250.190.36: bytes=32 time=29ms TTL=112',\n",
       " 'Reply from 142.250.190.36: bytes=32 time=30ms TTL=112',\n",
       " 'Reply from 142.250.190.36: bytes=32 time=31ms TTL=112',\n",
       " '',\n",
       " 'Ping statistics for 142.250.190.36:',\n",
       " '    Packets: Sent = 4, Received = 4, Lost = 0 (0% loss),',\n",
       " 'Approximate round trip times in milli-seconds:',\n",
       " '    Minimum = 29ms, Maximum = 31ms, Average = 29ms']"
      ]
     },
     "execution_count": 2,
     "metadata": {},
     "output_type": "execute_result"
    }
   ],
   "source": [
    "capture = !ping www.google.com\n",
    "capture"
   ]
  },
  {
   "cell_type": "markdown",
   "metadata": {},
   "source": [
    "# Exporting Notebooks\n",
    "You can export your notebooks to various formats from the top ribbon menu *File > Download as*. Images will be embedded directly into the exported document (including HTML) so the export can be shared as a standalone document. When exporting to a python script (`.py`) all markdown cells will be converted to comments. "
   ]
  }
 ],
 "metadata": {
  "kernelspec": {
   "display_name": "Python 3",
   "language": "python",
   "name": "python3"
  },
  "language_info": {
   "codemirror_mode": {
    "name": "ipython",
    "version": 3
   },
   "file_extension": ".py",
   "mimetype": "text/x-python",
   "name": "python",
   "nbconvert_exporter": "python",
   "pygments_lexer": "ipython3",
   "version": "3.7.7"
  },
  "toc": {
   "colors": {
    "hover_highlight": "#DAA520",
    "running_highlight": "#FF0000",
    "selected_highlight": "#FFD700"
   },
   "moveMenuLeft": true,
   "nav_menu": {
    "height": "12px",
    "width": "252px"
   },
   "navigate_menu": true,
   "number_sections": true,
   "sideBar": true,
   "threshold": 4,
   "toc_cell": true,
   "toc_section_display": "block",
   "toc_window_display": true
  }
 },
 "nbformat": 4,
 "nbformat_minor": 2
}
