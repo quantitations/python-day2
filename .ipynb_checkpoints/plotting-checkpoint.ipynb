{
 "cells": [
  {
   "cell_type": "markdown",
   "id": "fd39f62e",
   "metadata": {},
   "source": [
    "# Plotting with pandas\n",
    "\n",
    "The **pandas** package has some basic plotting capabilities."
   ]
  },
  {
   "cell_type": "code",
   "execution_count": 1,
   "id": "0350b81a",
   "metadata": {},
   "outputs": [
    {
     "data": {
      "text/html": [
       "<div>\n",
       "<style scoped>\n",
       "    .dataframe tbody tr th:only-of-type {\n",
       "        vertical-align: middle;\n",
       "    }\n",
       "\n",
       "    .dataframe tbody tr th {\n",
       "        vertical-align: top;\n",
       "    }\n",
       "\n",
       "    .dataframe thead th {\n",
       "        text-align: right;\n",
       "    }\n",
       "</style>\n",
       "<table border=\"1\" class=\"dataframe\">\n",
       "  <thead>\n",
       "    <tr style=\"text-align: right;\">\n",
       "      <th></th>\n",
       "      <th>dataset</th>\n",
       "      <th>x</th>\n",
       "      <th>y</th>\n",
       "    </tr>\n",
       "  </thead>\n",
       "  <tbody>\n",
       "    <tr>\n",
       "      <th>0</th>\n",
       "      <td>I</td>\n",
       "      <td>10.0</td>\n",
       "      <td>8.04</td>\n",
       "    </tr>\n",
       "    <tr>\n",
       "      <th>1</th>\n",
       "      <td>I</td>\n",
       "      <td>8.0</td>\n",
       "      <td>6.95</td>\n",
       "    </tr>\n",
       "    <tr>\n",
       "      <th>2</th>\n",
       "      <td>I</td>\n",
       "      <td>13.0</td>\n",
       "      <td>7.58</td>\n",
       "    </tr>\n",
       "    <tr>\n",
       "      <th>3</th>\n",
       "      <td>I</td>\n",
       "      <td>9.0</td>\n",
       "      <td>8.81</td>\n",
       "    </tr>\n",
       "    <tr>\n",
       "      <th>4</th>\n",
       "      <td>I</td>\n",
       "      <td>11.0</td>\n",
       "      <td>8.33</td>\n",
       "    </tr>\n",
       "    <tr>\n",
       "      <th>5</th>\n",
       "      <td>I</td>\n",
       "      <td>14.0</td>\n",
       "      <td>9.96</td>\n",
       "    </tr>\n",
       "    <tr>\n",
       "      <th>6</th>\n",
       "      <td>I</td>\n",
       "      <td>6.0</td>\n",
       "      <td>7.24</td>\n",
       "    </tr>\n",
       "    <tr>\n",
       "      <th>7</th>\n",
       "      <td>I</td>\n",
       "      <td>4.0</td>\n",
       "      <td>4.26</td>\n",
       "    </tr>\n",
       "    <tr>\n",
       "      <th>8</th>\n",
       "      <td>I</td>\n",
       "      <td>12.0</td>\n",
       "      <td>10.84</td>\n",
       "    </tr>\n",
       "    <tr>\n",
       "      <th>9</th>\n",
       "      <td>I</td>\n",
       "      <td>7.0</td>\n",
       "      <td>4.82</td>\n",
       "    </tr>\n",
       "    <tr>\n",
       "      <th>10</th>\n",
       "      <td>I</td>\n",
       "      <td>5.0</td>\n",
       "      <td>5.68</td>\n",
       "    </tr>\n",
       "  </tbody>\n",
       "</table>\n",
       "</div>"
      ],
      "text/plain": [
       "   dataset     x      y\n",
       "0        I  10.0   8.04\n",
       "1        I   8.0   6.95\n",
       "2        I  13.0   7.58\n",
       "3        I   9.0   8.81\n",
       "4        I  11.0   8.33\n",
       "5        I  14.0   9.96\n",
       "6        I   6.0   7.24\n",
       "7        I   4.0   4.26\n",
       "8        I  12.0  10.84\n",
       "9        I   7.0   4.82\n",
       "10       I   5.0   5.68"
      ]
     },
     "execution_count": 1,
     "metadata": {},
     "output_type": "execute_result"
    }
   ],
   "source": [
    "import pandas as pd\n",
    "\n",
    "data_url = \"https://raw.githubusercontent.com/mwaskom/seaborn-data/master/anscombe.csv\"\n",
    "z = pd.read_csv(data_url) # import data as a DataFrame, analogous to \"read.csv(data_url)\"\n",
    "z1 = z[z[\"dataset\"]==\"I\"] # dataset \"I\"\n",
    "z1"
   ]
  },
  {
   "cell_type": "code",
   "execution_count": 2,
   "id": "a7446cf4",
   "metadata": {},
   "outputs": [
    {
     "data": {
      "text/plain": [
       "<AxesSubplot:ylabel='Frequency'>"
      ]
     },
     "execution_count": 2,
     "metadata": {},
     "output_type": "execute_result"
    },
    {
     "data": {
      "image/png": "[encoded data removed]",
      "text/plain": [
       "<Figure size 432x288 with 1 Axes>"
      ]
     },
     "metadata": {
      "needs_background": "light"
     },
     "output_type": "display_data"
    }
   ],
   "source": [
    "z1[\"x\"].plot(kind=\"hist\")"
   ]
  },
  {
   "cell_type": "code",
   "execution_count": 11,
   "id": "d838ab63",
   "metadata": {},
   "outputs": [
    {
     "data": {
      "text/plain": [
       "<AxesSubplot:xlabel='x', ylabel='y'>"
      ]
     },
     "execution_count": 11,
     "metadata": {},
     "output_type": "execute_result"
    },
    {
     "data": {
      "image/png": "[encoded data removed]",
      "text/plain": [
       "<Figure size 432x288 with 1 Axes>"
      ]
     },
     "metadata": {
      "needs_background": "light"
     },
     "output_type": "display_data"
    }
   ],
   "source": [
    "z1.plot(kind=\"scatter\", x=\"x\", y=\"y\")"
   ]
  },
  {
   "cell_type": "code",
   "execution_count": 12,
   "id": "3bbc4c2f",
   "metadata": {},
   "outputs": [
    {
     "data": {
      "text/plain": [
       "dataset\n",
       "I      AxesSubplot(0.125,0.125;0.775x0.755)\n",
       "II     AxesSubplot(0.125,0.125;0.775x0.755)\n",
       "III    AxesSubplot(0.125,0.125;0.775x0.755)\n",
       "IV     AxesSubplot(0.125,0.125;0.775x0.755)\n",
       "dtype: object"
      ]
     },
     "execution_count": 12,
     "metadata": {},
     "output_type": "execute_result"
    },
    {
     "data": {
      "image/png": "[encoded data removed]",
      "text/plain": [
       "<Figure size 432x288 with 1 Axes>"
      ]
     },
     "metadata": {
      "needs_background": "light"
     },
     "output_type": "display_data"
    },
    {
     "data": {
      "image/png": "[encoded data removed]",
      "text/plain": [
       "<Figure size 432x288 with 1 Axes>"
      ]
     },
     "metadata": {
      "needs_background": "light"
     },
     "output_type": "display_data"
    },
    {
     "data": {
      "image/png": "[encoded data removed]",
      "text/plain": [
       "<Figure size 432x288 with 1 Axes>"
      ]
     },
     "metadata": {
      "needs_background": "light"
     },
     "output_type": "display_data"
    },
    {
     "data": {
      "image/png": "[encoded data removed]",
      "text/plain": [
       "<Figure size 432x288 with 1 Axes>"
      ]
     },
     "metadata": {
      "needs_background": "light"
     },
     "output_type": "display_data"
    }
   ],
   "source": [
    "z.groupby(z[\"dataset\"]).plot(kind=\"scatter\", x=\"x\", y=\"y\")"
   ]
  },
  {
   "cell_type": "markdown",
   "id": "668c87f5",
   "metadata": {},
   "source": [
    "Let's add a least-squares line to the plot. First, we can calculate it using **numpy**."
   ]
  },
  {
   "cell_type": "code",
   "execution_count": 13,
   "id": "323963b9",
   "metadata": {},
   "outputs": [
    {
     "data": {
      "text/plain": [
       "array([0.50009091, 3.00009091])"
      ]
     },
     "execution_count": 13,
     "metadata": {},
     "output_type": "execute_result"
    }
   ],
   "source": [
    "import numpy as np\n",
    "\n",
    "fit = np.polyfit(z1[\"x\"], z1[\"y\"], 1) # least-squares fit of first-order polynomial (i.e. line)\n",
    "fit"
   ]
  },
  {
   "cell_type": "markdown",
   "id": "905bea13",
   "metadata": {},
   "source": [
    "*Careful*: this `fit` has the slope first then the intercept, so the order is reversed compared to R's `lm` function.\n",
    "\n",
    "Finally, we can redraw the scatterplot, adding the least-squares line we've calculated."
   ]
  },
  {
   "cell_type": "code",
   "execution_count": 14,
   "id": "d3521c36",
   "metadata": {},
   "outputs": [
    {
     "data": {
      "text/plain": [
       "[<matplotlib.lines.Line2D at 0x25b476d0648>]"
      ]
     },
     "execution_count": 14,
     "metadata": {},
     "output_type": "execute_result"
    },
    {
     "data": {
      "image/png": "[encoded data removed]",
      "text/plain": [
       "<Figure size 432x288 with 1 Axes>"
      ]
     },
     "metadata": {
      "needs_background": "light"
     },
     "output_type": "display_data"
    }
   ],
   "source": [
    "z1.plot(kind=\"scatter\", x=\"x\", y=\"y\").plot(z1[\"x\"], fit[0]*z1[\"x\"] + fit[1], color=\"Red\")"
   ]
  },
  {
   "cell_type": "markdown",
   "id": "0b4c2423",
   "metadata": {},
   "source": [
    "# Matplotlib"
   ]
  },
  {
   "cell_type": "markdown",
   "id": "160ce5d7",
   "metadata": {},
   "source": [
    "Matplotlib is a package which defines classes and their methods for all the components necessary to create a wide variety of plots e.g. axes, titles, lines, text, patches etc. These classes are organized somewhat heirarchically so that e.g. a `Figure` object (basically everything you see in any graphic) can own several `Axes` objects (what we consider a \"plot\" - a rectangular region on the figure) which in turn can own e.g. `line` (an actual plotted line) or `title` (the plot title) or `XAxis` (the x-axis) objects. "
   ]
  },
  {
   "cell_type": "markdown",
   "id": "676f96b3",
   "metadata": {},
   "source": [
    "Working explicitly with these heirarchically organized classes and their methods is known as the object-oriented (\"OO\") approach for matplotlib, or else as using the \"class library\". The alternative to the full OO approach is a submodule within matplotlib called `pyplot` which defines functions that *implicity* create and manipulate these objects to script common plotting tasks. Using `pyplot` functions to achieve plotting requires fewer lines of code, but it often does not allow full access to the created objects and thus limits customization. According to the official docs for non-interactive programming it is recommended to use the `pyplot` convenience functions for *creating* the axes and figure objects, and then use the class methods of those objects to achieve the actual plotting. "
   ]
  },
  {
   "cell_type": "markdown",
   "id": "5f251642",
   "metadata": {},
   "source": [
    "Let's see a simple example of drawing the same plot using the class-library OO approach versus the pyplot scripting approach:"
   ]
  },
  {
   "cell_type": "code",
   "execution_count": 16,
   "id": "c3f31bd2",
   "metadata": {},
   "outputs": [],
   "source": [
    "x = np.random.randn(10000)"
   ]
  },
  {
   "cell_type": "code",
   "execution_count": 20,
   "id": "c3c433d0",
   "metadata": {},
   "outputs": [
    {
     "data": {
      "text/plain": [
       "Text(0.5, 1.0, 'Normal distribution with $\\\\mu=0, \\\\sigma=1$')"
      ]
     },
     "execution_count": 20,
     "metadata": {},
     "output_type": "execute_result"
    },
    {
     "data": {
      "image/png": "[encoded data removed]",
      "text/plain": [
       "<Figure size 432x288 with 1 Axes>"
      ]
     },
     "metadata": {
      "needs_background": "light"
     },
     "output_type": "display_data"
    }
   ],
   "source": [
    "import matplotlib.pyplot as plt\n",
    "\n",
    "####################################\n",
    "# The pyplot approach\n",
    "####################################\n",
    "plt.hist(x)\n",
    "plt.title(r'Normal distribution with $\\mu=0, \\sigma=1$')"
   ]
  },
  {
   "cell_type": "code",
   "execution_count": 21,
   "id": "73820913",
   "metadata": {},
   "outputs": [
    {
     "data": {
      "text/plain": [
       "Text(0.5, 1.0, 'Normal distribution with $\\\\mu=0, \\\\sigma=1$')"
      ]
     },
     "execution_count": 21,
     "metadata": {},
     "output_type": "execute_result"
    },
    {
     "data": {
      "image/png": "[encoded data removed]",
      "text/plain": [
       "<Figure size 432x288 with 1 Axes>"
      ]
     },
     "metadata": {
      "needs_background": "light"
     },
     "output_type": "display_data"
    }
   ],
   "source": [
    "####################################\n",
    "# Joint OO-pyplot approach\n",
    "####################################\n",
    "fig, ax = plt.subplots()  # Use pyplot convenience function for fig & axes creation, storing handles to those objects\n",
    "ax.hist(x)  # Use an Axes method to create further plotting elements.\n",
    "ax.set_title('Normal distribution with $\\mu=0, \\sigma=1$')"
   ]
  },
  {
   "cell_type": "markdown",
   "id": "b025d200",
   "metadata": {},
   "source": [
    "Finally, let's make a figure with four scatterplots from the Anscombe dataset along with their least-squares lines."
   ]
  },
  {
   "cell_type": "code",
   "execution_count": 19,
   "id": "7b13bbfe",
   "metadata": {},
   "outputs": [
    {
     "data": {
      "text/plain": [
       "Text(0.5, 0.98, \"Anscombe's Quartet\")"
      ]
     },
     "execution_count": 19,
     "metadata": {},
     "output_type": "execute_result"
    },
    {
     "data": {
      "image/png": "[encoded data removed]",
      "text/plain": [
       "<Figure size 432x288 with 4 Axes>"
      ]
     },
     "metadata": {
      "needs_background": "light"
     },
     "output_type": "display_data"
    }
   ],
   "source": [
    "fig = plt.figure() # creates a figure that we'll add plots to\n",
    "i = 1\n",
    "for key, zi in z.groupby(\"dataset\"):\n",
    "    fit = np.polyfit(zi[\"x\"], zi[\"y\"], 1)\n",
    "    p = fig.add_subplot(2, 2, i) # put this plot into position i within a 2x2 grid\n",
    "    p.scatter(x=zi[\"x\"], y=zi[\"y\"])\n",
    "    p.plot(zi[\"x\"], fit[0]*zi[\"x\"] + fit[1], color=\"Red\")\n",
    "    i += 1\n",
    "\n",
    "fig.suptitle(\"Anscombe's Quartet\")"
   ]
  },
  {
   "cell_type": "markdown",
   "id": "5e6a9b27",
   "metadata": {},
   "source": [
    "Good examples of a variety of plots can be found at https://matplotlib.org/stable/tutorials/introductory/sample_plots.html"
   ]
  }
 ],
 "metadata": {
  "kernelspec": {
   "display_name": "Python 3",
   "language": "python",
   "name": "python3"
  },
  "language_info": {
   "codemirror_mode": {
    "name": "ipython",
    "version": 3
   },
   "file_extension": ".py",
   "mimetype": "text/x-python",
   "name": "python",
   "nbconvert_exporter": "python",
   "pygments_lexer": "ipython3",
   "version": "3.7.7"
  }
 },
 "nbformat": 4,
 "nbformat_minor": 5
}
