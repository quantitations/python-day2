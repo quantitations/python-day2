{
 "cells": [
  {
   "cell_type": "markdown",
   "metadata": {
    "toc": "true"
   },
   "source": [
    "# Table of Contents\n",
    " <p><div class=\"lev1 toc-item\"><a href=\"#Project-Overview\" data-toc-modified-id=\"Project-Overview-1\"><span class=\"toc-item-num\">1&nbsp;&nbsp;</span>Project Overview</a></div><div class=\"lev1 toc-item\"><a href=\"#Part-1---Scraping-The-Federalist-Papers\" data-toc-modified-id=\"Part-1---Scraping-The-Federalist-Papers-2\"><span class=\"toc-item-num\">2&nbsp;&nbsp;</span>Part 1 - Scraping The Federalist Papers</a></div><div class=\"lev1 toc-item\"><a href=\"#Part-2---Read-in-the-Data\" data-toc-modified-id=\"Part-2---Read-in-the-Data-3\"><span class=\"toc-item-num\">3&nbsp;&nbsp;</span>Part 2 - Read in the Data</a></div><div class=\"lev1 toc-item\"><a href=\"#Part-3---Creating-data-frame-of-token-frequencies\" data-toc-modified-id=\"Part-3---Creating-data-frame-of-token-frequencies-4\"><span class=\"toc-item-num\">4&nbsp;&nbsp;</span>Part 3 - Creating data frame of token frequencies</a></div><div class=\"lev1 toc-item\"><a href=\"#Dimensionality-Reduction-with-PCA-and-LDA\" data-toc-modified-id=\"Dimensionality-Reduction-with-PCA-and-LDA-5\"><span class=\"toc-item-num\">5&nbsp;&nbsp;</span>Dimensionality Reduction with PCA and LDA</a></div><div class=\"lev2 toc-item\"><a href=\"#PCA-Example\" data-toc-modified-id=\"PCA-Example-51\"><span class=\"toc-item-num\">5.1&nbsp;&nbsp;</span>PCA Example</a></div><div class=\"lev2 toc-item\"><a href=\"#PCA-+-LDA-Pipeline\" data-toc-modified-id=\"PCA-+-LDA-Pipeline-52\"><span class=\"toc-item-num\">5.2&nbsp;&nbsp;</span>PCA + LDA Pipeline</a></div><div class=\"lev1 toc-item\"><a href=\"#Tune-PCA-Components\" data-toc-modified-id=\"Tune-PCA-Components-6\"><span class=\"toc-item-num\">6&nbsp;&nbsp;</span>Tune PCA Components</a></div>"
   ]
  },
  {
   "cell_type": "markdown",
   "metadata": {},
   "source": [
    "# Project\n",
    "\n",
    "As an example project, we're going to try to resolve the authorship of the Federalist Papers."
   ]
  },
  {
   "cell_type": "markdown",
   "metadata": {},
   "source": [
    "## Part 1 - Scraping The Federalist Papers ###"
   ]
  },
  {
   "cell_type": "markdown",
   "metadata": {},
   "source": [
    "First we want to retrieve the contents of all the [federalist papers](https://avalon.law.yale.edu/subject_menus/fed.asp) from the Yale law school website. We can do this using the `requests` package to retrieve the HTML for each paper's web page, then use the `bs4` package to parse that HTML, and finally save the actual text contents of each paper to our data folder. We have a stand-alone python script `scrape_federalist_papers.py` which does this; **as an exercise you can try writing such a script yourself.**"
   ]
  },
  {
   "cell_type": "markdown",
   "metadata": {},
   "source": [
    "Jupyter provides the **`%run` \"magic\" command** for executing code in external python scripts, where all the script variables become available within your notebook namespace. We'll run our scraping script now, which will write the federalist papers as individual text files in the `federalist_papers` folder. "
   ]
  },
  {
   "cell_type": "markdown",
   "metadata": {},
   "source": [
    "**I've already provided you with the resulting files, so you don't actually need to execute the following cell during the workshop. (It takes a while to run.)**"
   ]
  },
  {
   "cell_type": "code",
   "execution_count": 18,
   "metadata": {},
   "outputs": [
    {
     "name": "stdout",
     "output_type": "stream",
     "text": [
      "Scraping federalist papers 1 through 85...\n",
      "1\n",
      "2\n",
      "Scraping author names from webpage table...\n"
     ]
    }
   ],
   "source": [
    "%run scrape_federalist_papers.py"
   ]
  },
  {
   "cell_type": "markdown",
   "metadata": {},
   "source": [
    "## Part 2 - Read in the Data"
   ]
  },
  {
   "cell_type": "code",
   "execution_count": 1,
   "metadata": {},
   "outputs": [],
   "source": [
    "from pathlib import Path\n",
    "import pandas as pd\n",
    "import os"
   ]
  },
  {
   "cell_type": "code",
   "execution_count": 2,
   "metadata": {},
   "outputs": [],
   "source": [
    "# Set the data folder where the papers are saved (papers are identified by integers)\n",
    "datapath = Path(\"federalist_papers\")"
   ]
  },
  {
   "cell_type": "code",
   "execution_count": 3,
   "metadata": {},
   "outputs": [
    {
     "data": {
      "text/plain": [
       "['Hamilton', 'Jay', 'Jay']"
      ]
     },
     "execution_count": 3,
     "metadata": {},
     "output_type": "execute_result"
    }
   ],
   "source": [
    "# Read in the list of authors we scraped from the table on the website\n",
    "authors = pd.read_csv(datapath / \"authors.csv\", \n",
    "                          squeeze=True,  # squeeze will read in as a Series rather than Dataframe\n",
    "                          header=None)\n",
    "author_list = authors.tolist()\n",
    "author_list[:3]"
   ]
  },
  {
   "cell_type": "code",
   "execution_count": 4,
   "metadata": {},
   "outputs": [
    {
     "data": {
      "text/plain": [
       "[WindowsPath('federalist_papers/01.txt'),\n",
       " WindowsPath('federalist_papers/02.txt'),\n",
       " WindowsPath('federalist_papers/03.txt')]"
      ]
     },
     "execution_count": 4,
     "metadata": {},
     "output_type": "execute_result"
    }
   ],
   "source": [
    "# Get a list of all the paper filepaths\n",
    "docnames = [datapath / f for f in os.listdir(datapath) if f[-4:]==\".txt\"]\n",
    "docnames.sort()  # sort the list IN PLACE alphabetically (i.e. numerically in this case)\n",
    "docnames[:3]"
   ]
  },
  {
   "cell_type": "code",
   "execution_count": 5,
   "metadata": {},
   "outputs": [],
   "source": [
    "# Each author will have all his papers merged into a single string\n",
    "hamilton = \"\"\n",
    "madison = \"\"\n",
    "jay = \"\"\n",
    "\n",
    "N = len(docnames)\n",
    "for i in range(N):\n",
    "    with open(docnames[i], 'r') as f:\n",
    "        if author_list[i] == \"Hamilton\":\n",
    "            hamilton += f.read() + \" \"\n",
    "        elif author_list[i] == \"Madison\":\n",
    "            madison += f.read() + \" \"\n",
    "        elif author_list[i] == \"Jay\":\n",
    "            jay += f.read() + \" \"\n",
    "        else:\n",
    "            # discard papers with mixed authorship e.g. \"Hamilton and Madison\"\n",
    "            pass"
   ]
  },
  {
   "cell_type": "code",
   "execution_count": 6,
   "metadata": {},
   "outputs": [
    {
     "data": {
      "text/plain": [
       "(687062, 232117, 50516)"
      ]
     },
     "execution_count": 6,
     "metadata": {},
     "output_type": "execute_result"
    }
   ],
   "source": [
    "len(hamilton), len(madison), len(jay)"
   ]
  },
  {
   "cell_type": "code",
   "execution_count": 7,
   "metadata": {},
   "outputs": [
    {
     "data": {
      "text/plain": [
       "'To the People of the State of New York:  \\nAFTER an unequivoc'"
      ]
     },
     "execution_count": 7,
     "metadata": {},
     "output_type": "execute_result"
    }
   ],
   "source": [
    "hamilton[:60]"
   ]
  },
  {
   "cell_type": "markdown",
   "metadata": {},
   "source": [
    "## Part 3 - Creating data frame of token frequencies ###"
   ]
  },
  {
   "cell_type": "code",
   "execution_count": 8,
   "metadata": {},
   "outputs": [],
   "source": [
    "import nltk\n",
    "import re"
   ]
  },
  {
   "cell_type": "code",
   "execution_count": 9,
   "metadata": {},
   "outputs": [
    {
     "name": "stderr",
     "output_type": "stream",
     "text": [
      "[nltk_data] Downloading package punkt to\n",
      "[nltk_data]     C:\\Users\\12565\\AppData\\Roaming\\nltk_data...\n",
      "[nltk_data]   Package punkt is already up-to-date!\n"
     ]
    }
   ],
   "source": [
    "nltk.download('punkt')  # download a pre-trained tokenizer that nltk will use for tokenizng the doc text\n",
    "\n",
    "# Tokenize each document (split it into words) and represent each doc as a word frequency vector\n",
    "N = len(docnames)\n",
    "tables = [None]*N\n",
    "for i in range(N):\n",
    "    with open(docnames[i], 'r') as f:\n",
    "        doc = f.read()\n",
    "        doc = doc.replace(\"To the People of the State of New York:\", \"\")\n",
    "        doc = doc.replace(\"PUBLIUS\", \"\")\n",
    "        doc = doc.replace(\"Ã¥\", \"\")\n",
    "        doc = re.sub(\"[0-9]+\", \"\", doc)\n",
    "        doc = doc.lower()\n",
    "        tokens = nltk.tokenize.word_tokenize(doc)  # tokenize the doc into a list of words\n",
    "        tables[i] = nltk.FreqDist(tokens)  # vectorize the list of words into a vector of word frequencies"
   ]
  },
  {
   "cell_type": "code",
   "execution_count": 10,
   "metadata": {},
   "outputs": [
    {
     "data": {
      "text/plain": [
       "[FreqDist({'the': 131, ',': 105, 'of': 104, 'to': 71, '.': 49, 'and': 40, 'be': 34, 'that': 28, 'in': 27, 'a': 25, ...}),\n",
       " FreqDist({',': 122, 'the': 105, 'and': 83, 'of': 81, 'to': 52, 'that': 44, '.': 41, 'it': 38, 'in': 34, 'a': 30, ...}),\n",
       " FreqDist({',': 121, 'the': 91, 'and': 61, 'of': 60, 'to': 55, '.': 37, 'or': 32, 'be': 31, 'in': 25, 'as': 24, ...})]"
      ]
     },
     "execution_count": 10,
     "metadata": {},
     "output_type": "execute_result"
    }
   ],
   "source": [
    "# We now have a list where each element is a word count vector for a single document\n",
    "tables[:3]"
   ]
  },
  {
   "cell_type": "code",
   "execution_count": 11,
   "metadata": {},
   "outputs": [
    {
     "data": {
      "text/html": [
       "<div>\n",
       "<style scoped>\n",
       "    .dataframe tbody tr th:only-of-type {\n",
       "        vertical-align: middle;\n",
       "    }\n",
       "\n",
       "    .dataframe tbody tr th {\n",
       "        vertical-align: top;\n",
       "    }\n",
       "\n",
       "    .dataframe thead th {\n",
       "        text-align: right;\n",
       "    }\n",
       "</style>\n",
       "<table border=\"1\" class=\"dataframe\">\n",
       "  <thead>\n",
       "    <tr style=\"text-align: right;\">\n",
       "      <th></th>\n",
       "      <th>after</th>\n",
       "      <th>an</th>\n",
       "      <th>unequivocal</th>\n",
       "      <th>experience</th>\n",
       "      <th>of</th>\n",
       "      <th>the</th>\n",
       "      <th>inefficiency</th>\n",
       "      <th>subsisting</th>\n",
       "      <th>federal</th>\n",
       "      <th>government</th>\n",
       "      <th>...</th>\n",
       "      <th>rare</th>\n",
       "      <th>abate</th>\n",
       "      <th>dint</th>\n",
       "      <th>demagogue</th>\n",
       "      <th>prodigy</th>\n",
       "      <th>completion</th>\n",
       "      <th>trembling</th>\n",
       "      <th>recommence</th>\n",
       "      <th>hume</th>\n",
       "      <th>essays</th>\n",
       "    </tr>\n",
       "  </thead>\n",
       "  <tbody>\n",
       "    <tr>\n",
       "      <th>0</th>\n",
       "      <td>2.0</td>\n",
       "      <td>11</td>\n",
       "      <td>1.0</td>\n",
       "      <td>1.0</td>\n",
       "      <td>104</td>\n",
       "      <td>131</td>\n",
       "      <td>1.0</td>\n",
       "      <td>1.0</td>\n",
       "      <td>1.0</td>\n",
       "      <td>9</td>\n",
       "      <td>...</td>\n",
       "      <td>NaN</td>\n",
       "      <td>NaN</td>\n",
       "      <td>NaN</td>\n",
       "      <td>NaN</td>\n",
       "      <td>NaN</td>\n",
       "      <td>NaN</td>\n",
       "      <td>NaN</td>\n",
       "      <td>NaN</td>\n",
       "      <td>NaN</td>\n",
       "      <td>NaN</td>\n",
       "    </tr>\n",
       "    <tr>\n",
       "      <th>1</th>\n",
       "      <td>1.0</td>\n",
       "      <td>1</td>\n",
       "      <td>NaN</td>\n",
       "      <td>2.0</td>\n",
       "      <td>81</td>\n",
       "      <td>105</td>\n",
       "      <td>NaN</td>\n",
       "      <td>NaN</td>\n",
       "      <td>2.0</td>\n",
       "      <td>9</td>\n",
       "      <td>...</td>\n",
       "      <td>NaN</td>\n",
       "      <td>NaN</td>\n",
       "      <td>NaN</td>\n",
       "      <td>NaN</td>\n",
       "      <td>NaN</td>\n",
       "      <td>NaN</td>\n",
       "      <td>NaN</td>\n",
       "      <td>NaN</td>\n",
       "      <td>NaN</td>\n",
       "      <td>NaN</td>\n",
       "    </tr>\n",
       "    <tr>\n",
       "      <th>2</th>\n",
       "      <td>NaN</td>\n",
       "      <td>3</td>\n",
       "      <td>NaN</td>\n",
       "      <td>1.0</td>\n",
       "      <td>60</td>\n",
       "      <td>91</td>\n",
       "      <td>NaN</td>\n",
       "      <td>NaN</td>\n",
       "      <td>2.0</td>\n",
       "      <td>16</td>\n",
       "      <td>...</td>\n",
       "      <td>NaN</td>\n",
       "      <td>NaN</td>\n",
       "      <td>NaN</td>\n",
       "      <td>NaN</td>\n",
       "      <td>NaN</td>\n",
       "      <td>NaN</td>\n",
       "      <td>NaN</td>\n",
       "      <td>NaN</td>\n",
       "      <td>NaN</td>\n",
       "      <td>NaN</td>\n",
       "    </tr>\n",
       "  </tbody>\n",
       "</table>\n",
       "<p>3 rows × 8747 columns</p>\n",
       "</div>"
      ],
      "text/plain": [
       "   after  an  unequivocal  experience   of  the  inefficiency  subsisting  \\\n",
       "0    2.0  11          1.0         1.0  104  131           1.0         1.0   \n",
       "1    1.0   1          NaN         2.0   81  105           NaN         NaN   \n",
       "2    NaN   3          NaN         1.0   60   91           NaN         NaN   \n",
       "\n",
       "   federal  government  ...  rare  abate  dint  demagogue  prodigy  \\\n",
       "0      1.0           9  ...   NaN    NaN   NaN        NaN      NaN   \n",
       "1      2.0           9  ...   NaN    NaN   NaN        NaN      NaN   \n",
       "2      2.0          16  ...   NaN    NaN   NaN        NaN      NaN   \n",
       "\n",
       "   completion  trembling  recommence  hume  essays  \n",
       "0         NaN        NaN         NaN   NaN     NaN  \n",
       "1         NaN        NaN         NaN   NaN     NaN  \n",
       "2         NaN        NaN         NaN   NaN     NaN  \n",
       "\n",
       "[3 rows x 8747 columns]"
      ]
     },
     "execution_count": 11,
     "metadata": {},
     "output_type": "execute_result"
    }
   ],
   "source": [
    "# Cast the list of word count vectors into a dataframe\n",
    "# Each row corresponds to a single document\n",
    "# The columns will be the complete word set across all the docs\n",
    "# (and we will get NaN for any word that was not present in a particular document)\n",
    "df = pd.DataFrame(tables)\n",
    "df.head(3)"
   ]
  },
  {
   "cell_type": "code",
   "execution_count": 12,
   "metadata": {},
   "outputs": [
    {
     "data": {
      "text/html": [
       "<div>\n",
       "<style scoped>\n",
       "    .dataframe tbody tr th:only-of-type {\n",
       "        vertical-align: middle;\n",
       "    }\n",
       "\n",
       "    .dataframe tbody tr th {\n",
       "        vertical-align: top;\n",
       "    }\n",
       "\n",
       "    .dataframe thead th {\n",
       "        text-align: right;\n",
       "    }\n",
       "</style>\n",
       "<table border=\"1\" class=\"dataframe\">\n",
       "  <thead>\n",
       "    <tr style=\"text-align: right;\">\n",
       "      <th></th>\n",
       "      <th>after</th>\n",
       "      <th>an</th>\n",
       "      <th>unequivocal</th>\n",
       "      <th>experience</th>\n",
       "      <th>of</th>\n",
       "      <th>the</th>\n",
       "      <th>inefficiency</th>\n",
       "      <th>subsisting</th>\n",
       "      <th>federal</th>\n",
       "      <th>government</th>\n",
       "      <th>...</th>\n",
       "      <th>rare</th>\n",
       "      <th>abate</th>\n",
       "      <th>dint</th>\n",
       "      <th>demagogue</th>\n",
       "      <th>prodigy</th>\n",
       "      <th>completion</th>\n",
       "      <th>trembling</th>\n",
       "      <th>recommence</th>\n",
       "      <th>hume</th>\n",
       "      <th>essays</th>\n",
       "    </tr>\n",
       "  </thead>\n",
       "  <tbody>\n",
       "    <tr>\n",
       "      <th>0</th>\n",
       "      <td>0.001129</td>\n",
       "      <td>0.006208</td>\n",
       "      <td>0.000564</td>\n",
       "      <td>0.000564</td>\n",
       "      <td>0.058691</td>\n",
       "      <td>0.073928</td>\n",
       "      <td>0.000564</td>\n",
       "      <td>0.000564</td>\n",
       "      <td>0.000564</td>\n",
       "      <td>0.005079</td>\n",
       "      <td>...</td>\n",
       "      <td>0.0</td>\n",
       "      <td>0.0</td>\n",
       "      <td>0.0</td>\n",
       "      <td>0.0</td>\n",
       "      <td>0.0</td>\n",
       "      <td>0.0</td>\n",
       "      <td>0.0</td>\n",
       "      <td>0.0</td>\n",
       "      <td>0.0</td>\n",
       "      <td>0.0</td>\n",
       "    </tr>\n",
       "    <tr>\n",
       "      <th>1</th>\n",
       "      <td>0.000542</td>\n",
       "      <td>0.000542</td>\n",
       "      <td>0.000000</td>\n",
       "      <td>0.001084</td>\n",
       "      <td>0.043902</td>\n",
       "      <td>0.056911</td>\n",
       "      <td>0.000000</td>\n",
       "      <td>0.000000</td>\n",
       "      <td>0.001084</td>\n",
       "      <td>0.004878</td>\n",
       "      <td>...</td>\n",
       "      <td>0.0</td>\n",
       "      <td>0.0</td>\n",
       "      <td>0.0</td>\n",
       "      <td>0.0</td>\n",
       "      <td>0.0</td>\n",
       "      <td>0.0</td>\n",
       "      <td>0.0</td>\n",
       "      <td>0.0</td>\n",
       "      <td>0.0</td>\n",
       "      <td>0.0</td>\n",
       "    </tr>\n",
       "    <tr>\n",
       "      <th>2</th>\n",
       "      <td>0.000000</td>\n",
       "      <td>0.001846</td>\n",
       "      <td>0.000000</td>\n",
       "      <td>0.000615</td>\n",
       "      <td>0.036923</td>\n",
       "      <td>0.056000</td>\n",
       "      <td>0.000000</td>\n",
       "      <td>0.000000</td>\n",
       "      <td>0.001231</td>\n",
       "      <td>0.009846</td>\n",
       "      <td>...</td>\n",
       "      <td>0.0</td>\n",
       "      <td>0.0</td>\n",
       "      <td>0.0</td>\n",
       "      <td>0.0</td>\n",
       "      <td>0.0</td>\n",
       "      <td>0.0</td>\n",
       "      <td>0.0</td>\n",
       "      <td>0.0</td>\n",
       "      <td>0.0</td>\n",
       "      <td>0.0</td>\n",
       "    </tr>\n",
       "  </tbody>\n",
       "</table>\n",
       "<p>3 rows × 8747 columns</p>\n",
       "</div>"
      ],
      "text/plain": [
       "      after        an  unequivocal  experience        of       the  \\\n",
       "0  0.001129  0.006208     0.000564    0.000564  0.058691  0.073928   \n",
       "1  0.000542  0.000542     0.000000    0.001084  0.043902  0.056911   \n",
       "2  0.000000  0.001846     0.000000    0.000615  0.036923  0.056000   \n",
       "\n",
       "   inefficiency  subsisting   federal  government  ...  rare  abate  dint  \\\n",
       "0      0.000564    0.000564  0.000564    0.005079  ...   0.0    0.0   0.0   \n",
       "1      0.000000    0.000000  0.001084    0.004878  ...   0.0    0.0   0.0   \n",
       "2      0.000000    0.000000  0.001231    0.009846  ...   0.0    0.0   0.0   \n",
       "\n",
       "   demagogue  prodigy  completion  trembling  recommence  hume  essays  \n",
       "0        0.0      0.0         0.0        0.0         0.0   0.0     0.0  \n",
       "1        0.0      0.0         0.0        0.0         0.0   0.0     0.0  \n",
       "2        0.0      0.0         0.0        0.0         0.0   0.0     0.0  \n",
       "\n",
       "[3 rows x 8747 columns]"
      ]
     },
     "execution_count": 12,
     "metadata": {},
     "output_type": "execute_result"
    }
   ],
   "source": [
    "# Fill in zeros for the NaNs\n",
    "df.fillna(0, inplace=True)\n",
    "\n",
    "# Divide rows by totals to normalize the word count within a document into a word frequency\n",
    "for i in range(N):\n",
    "    s = sum(df.iloc[i])\n",
    "    df.iloc[i] = [n/s for n in df.iloc[i]]\n",
    "\n",
    "df.head(3)"
   ]
  },
  {
   "cell_type": "code",
   "execution_count": 13,
   "metadata": {},
   "outputs": [],
   "source": [
    "# Write as csv\n",
    "df.to_csv(datapath / \"federalist.csv\", index=False)"
   ]
  },
  {
   "cell_type": "markdown",
   "metadata": {},
   "source": [
    "# Dimensionality Reduction with PCA and LDA"
   ]
  },
  {
   "cell_type": "markdown",
   "metadata": {},
   "source": [
    "The `sklearn` documentation for the [`PCA`](https://scikit-learn.org/stable/modules/decomposition.html#pca) and [`LinearDiscriminantAnalysis`](https://scikit-learn.org/stable/modules/generated/sklearn.discriminant_analysis.LinearDiscriminantAnalysis.html) classes is helpful for understanding broadly what these two algorithms do. \n",
    "\n",
    "We use PCA to find the directions/vectors in the input data space that spread the data out most effectively - directions along which the data does not have much variance i.e. all points have similar values can be discarded without much loss of information. PCA is blind to data labels.\n",
    "\n",
    "LDA is also used for dimensinoality reduction of the data but it is not blind to labels - it will identify the directions/vectors in the input data which most effectively spread out the *classes*."
   ]
  },
  {
   "cell_type": "code",
   "execution_count": 14,
   "metadata": {},
   "outputs": [],
   "source": [
    "import matplotlib.pyplot as plt\n",
    "from sklearn.decomposition import PCA\n",
    "from sklearn.discriminant_analysis import LinearDiscriminantAnalysis as LDA\n",
    "from sklearn.preprocessing import StandardScaler\n",
    "from sklearn.pipeline import Pipeline\n",
    "import numpy as np"
   ]
  },
  {
   "cell_type": "code",
   "execution_count": 15,
   "metadata": {},
   "outputs": [
    {
     "data": {
      "text/html": [
       "<div>\n",
       "<style scoped>\n",
       "    .dataframe tbody tr th:only-of-type {\n",
       "        vertical-align: middle;\n",
       "    }\n",
       "\n",
       "    .dataframe tbody tr th {\n",
       "        vertical-align: top;\n",
       "    }\n",
       "\n",
       "    .dataframe thead th {\n",
       "        text-align: right;\n",
       "    }\n",
       "</style>\n",
       "<table border=\"1\" class=\"dataframe\">\n",
       "  <thead>\n",
       "    <tr style=\"text-align: right;\">\n",
       "      <th></th>\n",
       "      <th>after</th>\n",
       "      <th>an</th>\n",
       "      <th>unequivocal</th>\n",
       "      <th>experience</th>\n",
       "      <th>of</th>\n",
       "      <th>the</th>\n",
       "      <th>inefficiency</th>\n",
       "      <th>subsisting</th>\n",
       "      <th>federal</th>\n",
       "      <th>government</th>\n",
       "      <th>...</th>\n",
       "      <th>rare</th>\n",
       "      <th>abate</th>\n",
       "      <th>dint</th>\n",
       "      <th>demagogue</th>\n",
       "      <th>prodigy</th>\n",
       "      <th>completion</th>\n",
       "      <th>trembling</th>\n",
       "      <th>recommence</th>\n",
       "      <th>hume</th>\n",
       "      <th>essays</th>\n",
       "    </tr>\n",
       "  </thead>\n",
       "  <tbody>\n",
       "    <tr>\n",
       "      <th>0</th>\n",
       "      <td>0.001129</td>\n",
       "      <td>0.006208</td>\n",
       "      <td>0.000564</td>\n",
       "      <td>0.000564</td>\n",
       "      <td>0.058691</td>\n",
       "      <td>0.073928</td>\n",
       "      <td>0.000564</td>\n",
       "      <td>0.000564</td>\n",
       "      <td>0.000564</td>\n",
       "      <td>0.005079</td>\n",
       "      <td>...</td>\n",
       "      <td>0.0</td>\n",
       "      <td>0.0</td>\n",
       "      <td>0.0</td>\n",
       "      <td>0.0</td>\n",
       "      <td>0.0</td>\n",
       "      <td>0.0</td>\n",
       "      <td>0.0</td>\n",
       "      <td>0.0</td>\n",
       "      <td>0.0</td>\n",
       "      <td>0.0</td>\n",
       "    </tr>\n",
       "    <tr>\n",
       "      <th>1</th>\n",
       "      <td>0.000542</td>\n",
       "      <td>0.000542</td>\n",
       "      <td>0.000000</td>\n",
       "      <td>0.001084</td>\n",
       "      <td>0.043902</td>\n",
       "      <td>0.056911</td>\n",
       "      <td>0.000000</td>\n",
       "      <td>0.000000</td>\n",
       "      <td>0.001084</td>\n",
       "      <td>0.004878</td>\n",
       "      <td>...</td>\n",
       "      <td>0.0</td>\n",
       "      <td>0.0</td>\n",
       "      <td>0.0</td>\n",
       "      <td>0.0</td>\n",
       "      <td>0.0</td>\n",
       "      <td>0.0</td>\n",
       "      <td>0.0</td>\n",
       "      <td>0.0</td>\n",
       "      <td>0.0</td>\n",
       "      <td>0.0</td>\n",
       "    </tr>\n",
       "  </tbody>\n",
       "</table>\n",
       "<p>2 rows × 8747 columns</p>\n",
       "</div>"
      ],
      "text/plain": [
       "      after        an  unequivocal  experience        of       the  \\\n",
       "0  0.001129  0.006208     0.000564    0.000564  0.058691  0.073928   \n",
       "1  0.000542  0.000542     0.000000    0.001084  0.043902  0.056911   \n",
       "\n",
       "   inefficiency  subsisting   federal  government  ...  rare  abate  dint  \\\n",
       "0      0.000564    0.000564  0.000564    0.005079  ...   0.0    0.0   0.0   \n",
       "1      0.000000    0.000000  0.001084    0.004878  ...   0.0    0.0   0.0   \n",
       "\n",
       "   demagogue  prodigy  completion  trembling  recommence  hume  essays  \n",
       "0        0.0      0.0         0.0        0.0         0.0   0.0     0.0  \n",
       "1        0.0      0.0         0.0        0.0         0.0   0.0     0.0  \n",
       "\n",
       "[2 rows x 8747 columns]"
      ]
     },
     "execution_count": 15,
     "metadata": {},
     "output_type": "execute_result"
    }
   ],
   "source": [
    "# Read in the list of authors we scraped from the table on the website\n",
    "x = pd.read_csv(datapath / \"federalist.csv\")\n",
    "x.head(2)"
   ]
  },
  {
   "cell_type": "code",
   "execution_count": 16,
   "metadata": {},
   "outputs": [],
   "source": [
    "authors = np.array(authors)\n",
    "unknown_docs = authors == \"Hamilton or Madison\"\n",
    "mixedauthor_docs = authors == \"Hamilton and Madison\"\n",
    "\n",
    "singleauthors = [author for author in authors if (author != \"Hamilton or Madison\") & (author != \"Hamilton and Madison\")]\n",
    "singleauthor_docs = x[(authors != \"Hamilton or Madison\") & (authors != \"Hamilton and Madison\")]"
   ]
  },
  {
   "cell_type": "code",
   "execution_count": 17,
   "metadata": {},
   "outputs": [],
   "source": [
    "author_codes = pd.Categorical(singleauthors)  # Useful to cast the list of authors to a list of integer categories"
   ]
  },
  {
   "cell_type": "markdown",
   "metadata": {},
   "source": [
    "## PCA Example"
   ]
  },
  {
   "cell_type": "code",
   "execution_count": 18,
   "metadata": {},
   "outputs": [],
   "source": [
    "# PCA can be used for unsupervised dimensionality reduction on unlabeled data\n",
    "# Note, sklearn PCA will center but not scale each feature prior to SVD\n",
    "\n",
    "# Instantiate PCA model with how many principal components to return\n",
    "pca = PCA(n_components=2)\n",
    "# Fitting the model means identifying the principal components from the input data, these are stored in the model\n",
    "# Transforming with the fitted model means casting any new data into the principal component basis\n",
    "x_pca = pca.fit_transform(singleauthor_docs.values)  # (the fit_transform method does both at the same time)"
   ]
  },
  {
   "cell_type": "code",
   "execution_count": 19,
   "metadata": {},
   "outputs": [],
   "source": [
    "# Get the results as a dataframe for plotting\n",
    "pca_results = pd.DataFrame(x_pca, columns=[\"pc1\", \"pc2\"])\n",
    "pca_results[\"author\"] = singleauthors"
   ]
  },
  {
   "cell_type": "code",
   "execution_count": 20,
   "metadata": {},
   "outputs": [
    {
     "data": {
      "text/plain": [
       "<matplotlib.legend.Legend at 0x26b64197b08>"
      ]
     },
     "execution_count": 20,
     "metadata": {},
     "output_type": "execute_result"
    },
    {
     "data": {
      "image/png": "[encoded data removed]",
      "text/plain": [
       "<Figure size 576x288 with 1 Axes>"
      ]
     },
     "metadata": {
      "needs_background": "light"
     },
     "output_type": "display_data"
    }
   ],
   "source": [
    "# Plot the data points in the principal components basis, colored by author\n",
    "fig, ax = plt.subplots(figsize=[8, 4])\n",
    "for author, grp in pca_results.groupby([\"author\"]):\n",
    "    ax.scatter(grp[\"pc1\"], grp[\"pc2\"], label=author)\n",
    "ax.set_title(\"Federalist Papers - Principal Components\")\n",
    "ax.set_xlabel(\"1st PC\")\n",
    "ax.set_ylabel(\"2nd PC\")\n",
    "ax.legend(loc=\"lower right\")"
   ]
  },
  {
   "cell_type": "markdown",
   "metadata": {},
   "source": [
    "## PCA + LDA Pipeline"
   ]
  },
  {
   "cell_type": "code",
   "execution_count": 21,
   "metadata": {},
   "outputs": [],
   "source": [
    "# PCA followed by LDA, wrapped together in a sklearn pipeline\n",
    "pl_steps = [(\"pca\", PCA(n_components=30)),\n",
    "     (\"lda\", LDA(n_components=2))]  # max number of components for LDA is (num_classes - 1)... also 2D viz is useful\n",
    "pl = Pipeline(pl_steps)"
   ]
  },
  {
   "cell_type": "code",
   "execution_count": 22,
   "metadata": {},
   "outputs": [],
   "source": [
    "# Fit/transform the pipeline with the known authorship documents\n",
    "x_lda = pl.fit_transform(singleauthor_docs.values, y=singleauthors)\n",
    "\n",
    "# Get the results as a dataframe for plotting\n",
    "lda_results = pd.DataFrame(x_lda, columns=[\"pc1\", \"pc2\"])\n",
    "lda_results[\"author\"] = singleauthors"
   ]
  },
  {
   "cell_type": "code",
   "execution_count": 23,
   "metadata": {},
   "outputs": [],
   "source": [
    "# Apply the fitted transformation to the unknown and mixed author papers\n",
    "# (the PCA and LDA models will apply the same principal components / transformations determined by the fit)\n",
    "x_lda_unknown = pl.transform(x.loc[unknown_docs, :].values)\n",
    "x_lda_mixed = pl.transform(x.loc[mixedauthor_docs, :].values)"
   ]
  },
  {
   "cell_type": "code",
   "execution_count": 24,
   "metadata": {},
   "outputs": [
    {
     "data": {
      "text/plain": [
       "<matplotlib.legend.Legend at 0x26b647dfec8>"
      ]
     },
     "execution_count": 24,
     "metadata": {},
     "output_type": "execute_result"
    },
    {
     "data": {
      "image/png": "[encoded data removed]",
      "text/plain": [
       "<Figure size 576x288 with 1 Axes>"
      ]
     },
     "metadata": {
      "needs_background": "light"
     },
     "output_type": "display_data"
    }
   ],
   "source": [
    "# Plot the data points in the principal components basis, colored by author\n",
    "fig, ax = plt.subplots(figsize=[8, 4])\n",
    "for author, grp in lda_results.groupby([\"author\"]):\n",
    "    ax.scatter(grp[\"pc1\"], grp[\"pc2\"], label=author)\n",
    "ax.scatter(x_lda_unknown[:, 0], x_lda_unknown[:, 1], marker=\"x\", s=30, color=\"red\", label=\"unknown authors\")\n",
    "ax.scatter(x_lda_mixed[:, 0], x_lda_mixed[:, 1], marker=\"^\", s=30, color=\"black\", label=\"mixed authors\")\n",
    "ax.set_title(\"Federalist Papers - Principal Components\")\n",
    "ax.set_xlabel(\"1st PC\")\n",
    "ax.set_ylabel(\"2nd PC\")\n",
    "ax.legend(loc=\"upper left\")"
   ]
  },
  {
   "cell_type": "markdown",
   "metadata": {},
   "source": [
    "# Tune PCA Components"
   ]
  },
  {
   "cell_type": "code",
   "execution_count": 25,
   "metadata": {},
   "outputs": [],
   "source": [
    "from sklearn.model_selection import GridSearchCV"
   ]
  },
  {
   "cell_type": "code",
   "execution_count": 27,
   "metadata": {
    "scrolled": true
   },
   "outputs": [
    {
     "data": {
      "text/plain": [
       "GridSearchCV(cv=3,\n",
       "             estimator=Pipeline(steps=[('pca', PCA(n_components=30)),\n",
       "                                       ('lda',\n",
       "                                        LinearDiscriminantAnalysis(n_components=2))]),\n",
       "             param_grid={'pca__n_components': array([10, 13, 16, 19, 22, 25, 28, 31, 34, 37])},\n",
       "             return_train_score=True, scoring='accuracy')"
      ]
     },
     "execution_count": 27,
     "metadata": {},
     "output_type": "execute_result"
    }
   ],
   "source": [
    "# Define the set of values for PCA n_components that will be tried\n",
    "parameters = {\"pca__n_components\": np.arange(10, 40, 3)}\n",
    "\n",
    "# Instantiate the grid search for our pipeline and parameters\n",
    "# (will do k-folds CV)\n",
    "# (the max number of PCA components is limited by number of training points, so don't want 2- or 3-fold)\n",
    "cv = GridSearchCV(estimator=pl,\n",
    "                  param_grid=parameters,\n",
    "                  cv=3,\n",
    "                  scoring=\"accuracy\",\n",
    "                  return_train_score=True\n",
    "                 )\n",
    "cv.fit(X=singleauthor_docs.values, \n",
    "       y=singleauthors)"
   ]
  },
  {
   "cell_type": "code",
   "execution_count": 28,
   "metadata": {},
   "outputs": [
    {
     "data": {
      "text/plain": [
       "{'pca__n_components': 37}"
      ]
     },
     "execution_count": 28,
     "metadata": {},
     "output_type": "execute_result"
    }
   ],
   "source": [
    "cv.best_params_"
   ]
  },
  {
   "cell_type": "code",
   "execution_count": 29,
   "metadata": {},
   "outputs": [
    {
     "data": {
      "text/plain": [
       "Text(0.5, 1.0, 'Fine Tuning Pipeline with Grid Search')"
      ]
     },
     "execution_count": 29,
     "metadata": {},
     "output_type": "execute_result"
    },
    {
     "data": {
      "image/png": "[encoded data removed]",
      "text/plain": [
       "<Figure size 576x288 with 1 Axes>"
      ]
     },
     "metadata": {
      "needs_background": "light"
     },
     "output_type": "display_data"
    }
   ],
   "source": [
    "# Capture the result of the grid search as a dataframe\n",
    "results = pd.DataFrame(cv.cv_results_)\n",
    "results.sort_values(by=\"mean_test_score\", inplace=True)  # sort it by average performance on test set\n",
    "\n",
    "# Plot the results\n",
    "fig, ax = plt.subplots(figsize=[8, 4])\n",
    "ax.scatter(x=results[\"param_pca__n_components\"], y=results[\"mean_test_score\"])\n",
    "ax.set_xlabel(\"n_components\")\n",
    "ax.set_ylabel(\"mean performance on test set\")\n",
    "ax.set_title(\"Fine Tuning Pipeline with Grid Search\")"
   ]
  }
 ],
 "metadata": {
  "kernelspec": {
   "display_name": "Python 3",
   "language": "python",
   "name": "python3"
  },
  "language_info": {
   "codemirror_mode": {
    "name": "ipython",
    "version": 3
   },
   "file_extension": ".py",
   "mimetype": "text/x-python",
   "name": "python",
   "nbconvert_exporter": "python",
   "pygments_lexer": "ipython3",
   "version": "3.7.7"
  },
  "toc": {
   "colors": {
    "hover_highlight": "#DAA520",
    "running_highlight": "#FF0000",
    "selected_highlight": "#FFD700"
   },
   "moveMenuLeft": true,
   "nav_menu": {
    "height": "12px",
    "width": "252px"
   },
   "navigate_menu": true,
   "number_sections": true,
   "sideBar": true,
   "threshold": 4,
   "toc_cell": true,
   "toc_section_display": "block",
   "toc_window_display": true
  }
 },
 "nbformat": 4,
 "nbformat_minor": 2
}
